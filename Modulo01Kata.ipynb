{
 "cells": [
  {
   "cell_type": "markdown",
   "metadata": {},
   "source": [
    "# <font color='#557996'>Modulo 1</font>\n",
    "<span><font size=6; color='#365b77'>Primer programa</font></span>\n",
    "</br>\n",
    "<span><font color='#7498b6'>Construir un programa que muestre la fecha de hoy.</font></span>"
   ]
  },
  {
   "cell_type": "code",
   "execution_count": 13,
   "metadata": {},
   "outputs": [
    {
     "name": "stdout",
     "output_type": "stream",
     "text": [
      "Current date: 2022-02-11\n"
     ]
    }
   ],
   "source": [
    "#Se importan las librerias necesarias para poder realizar la tareas requeridas.\n",
    "from datetime import date\n",
    "#Se imprime la información en terminal.\n",
    "print(\"Current date: \" + str( date.today() )  )"
   ]
  },
  {
   "cell_type": "markdown",
   "metadata": {},
   "source": [
    "<span><font size=6; color='#365b77'>Construir un convertidor de unidades</font></span>\n",
    "</br>\n",
    "<span><font color='#7498b6'>Construir un programa de conversión entre parsecs y años luz</font></span>"
   ]
  },
  {
   "cell_type": "code",
   "execution_count": 14,
   "metadata": {},
   "outputs": [
    {
     "name": "stdout",
     "output_type": "stream",
     "text": [
      "66 parsec, is 215.26296 lightyears\n"
     ]
    }
   ],
   "source": [
    "\n",
    "#Se establece la cantidad.\n",
    "parsec = 66\n",
    "#Se realiza el caluclo de conversión.\n",
    "lightyears = 3.26156 * parsec\n",
    "#Se imprime el resultado en la terminal.\n",
    "print(str(parsec) + \" parsec, is \" + str(lightyears) + \" lightyears\")"
   ]
  }
 ],
 "metadata": {
  "interpreter": {
   "hash": "310de5395261291dc80715dddfe28575416fc65f73ccd1276a85b40bfc0e176d"
  },
  "kernelspec": {
   "display_name": "Python 3.9.8 64-bit",
   "language": "python",
   "name": "python3"
  },
  "language_info": {
   "codemirror_mode": {
    "name": "ipython",
    "version": 3
   },
   "file_extension": ".py",
   "mimetype": "text/x-python",
   "name": "python",
   "nbconvert_exporter": "python",
   "pygments_lexer": "ipython3",
   "version": "3.9.8"
  },
  "orig_nbformat": 4
 },
 "nbformat": 4,
 "nbformat_minor": 2
}
