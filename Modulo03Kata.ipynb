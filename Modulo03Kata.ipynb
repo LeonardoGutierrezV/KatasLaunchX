{
 "cells": [
  {
   "cell_type": "markdown",
   "metadata": {},
   "source": [
    "# <font color='#557996'>Modulo 3</font>\n",
    "## <font color='#365b77'>Ejercicio - Escribir declaraciones if, else, y elif</font>\n",
    "\n",
    "<font color='#7498b6'>Para este ejercicio, escribirás una lógica condicional que imprima una advertencia si un asteroide se acerca a la Tierra demasiado rápido. La velocidad del asteroide varía dependiendo de lo cerca que esté del sol, y cualquier velocidad superior a 25 kilómetros por segundo (km/s) merece una advertencia.\n",
    "\n",
    "Un asteroide se acerca, y viaja a una velocidad de 49 km/s.\n",
    "\n",
    "</font>"
   ]
  },
  {
   "cell_type": "code",
   "execution_count": 1,
   "metadata": {},
   "outputs": [
    {
     "name": "stdout",
     "output_type": "stream",
     "text": [
      "Se detecto un asteroide que supera los parametros de seguridad.\n"
     ]
    }
   ],
   "source": [
    "# Añadir el código necesario para crear una variable que guarde la velocidad del asteroide.\n",
    "Velocidad_Akeronte=49#km/s\n",
    "Requiere_Alerta=False\n",
    "# Escribe una expresión de prueba para calcular si necesita una advertencia.\n",
    "if(Velocidad_Akeronte<=25):\n",
    "   #No supera la velovidad de alerta\n",
    "   Requiere_Alerta=False\n",
    "else:\n",
    "    #Excede la velocidad de Alerta\n",
    "    Requiere_Alerta=True  \n",
    "# Agregue las instrucciones que se ejecutarán si la expresión de prueba es true o false\n",
    "\n",
    "if(Requiere_Alerta): print('¡Alerta! Se detecto un asteroide que supera los parametros de seguridad.')\n"
   ]
  },
  {
   "cell_type": "markdown",
   "metadata": {},
   "source": [
    "<font color='#7498b6'>Si un asteroide entra en la atmósfera de la Tierra a una velocidad mayor o igual a 20 km/s, a veces produce un rayo de luz que se puede ver desde la Tierra. Escribe la lógica condicional que usa declaraciones if, else, y elif para alertar a las personas de todo el mundo que deben buscar un asteroide en el cielo. ¡Hay uno que se dirige a la tierra ahora a una velocidad de 19 km/s!\n",
    " </font>"
   ]
  },
  {
   "cell_type": "code",
   "execution_count": null,
   "metadata": {},
   "outputs": [],
   "source": [
    "# Agrega el código para crear una variable para un asteroide que viaja a 19 km/s\n",
    "Velocidad_Azathoth=19#km/s\n",
    "Luminicencia=False\n",
    "# Escribe varias expresiones de prueba para determinar si puedes ver el rayo de luz desde la tierra\n",
    "if(Velocidad_Azathoth==20):\n",
    "    Luminicencia=True\n",
    "elif(Velocidad_Azathoth>20):\n",
    "    Luminicencia=True\n",
    "else: \n",
    "    Luminicencia=False\n",
    "# Agrega las instrucciones que se ejecutarán si las expresiones de prueba son True o False\n",
    "if(Luminicencia):\n",
    "    print('Espectaculo estelae!!')"
   ]
  },
  {
   "cell_type": "markdown",
   "metadata": {},
   "source": [
    "## <font color='#365b77'>Ejercicio: Uso de operadores and y or</font>\n",
    "\n",
    "<font color='#7498b6'>Los asteroides de menos de 25 metros en su dimensión más grande probablemente se quemarán a medida que entren en la atmósfera de la Tierra.\n",
    "\n",
    "- Si una pieza de un asteroide que es más grande que 25 metros pero más pequeña que 1000 metros golpeara la Tierra, causaría mucho daño.\n",
    "\n",
    "También discutimos en el ejercicio anterior que:\n",
    "\n",
    "- La velocidad del asteroide varía en función de lo cerca que esté del sol, y cualquier velocidad superior a 25 kilómetros por segundo (km/s) merece una advertencia.\n",
    "- Si un asteroide entra en la atmósfera de la Tierra a una velocidad mayor o igual a 20 km/s, a veces produce un rayo de luz que se puede ver desde la Tierra.\n",
    "\n",
    "</font>\n"
   ]
  },
  {
   "cell_type": "code",
   "execution_count": 10,
   "metadata": {},
   "outputs": [
    {
     "name": "stdout",
     "output_type": "stream",
     "text": [
      "Espectaculo estelar!!\n"
     ]
    }
   ],
   "source": [
    "# Agrega el código para crear nuevas variables para la velocidad y el tamaño del asteroide\n",
    "Velocidad_Cthulu=21\n",
    "Diametro_Cthulu=2\n",
    "# Para probar el código, prueba con varias velocidades y tamaños\n",
    "# Escribe varias expresiones de prueba o combinaciones de expresiones de prueba para determinar qué mensaje se debe enviar a Tierra.\n",
    "if (Diametro_Cthulu>25)or(Velocidad_Cthulu>25):\n",
    "   print('Alerta!! Cthulu excede los parametros de seguridad')\n",
    "elif(Velocidad_Cthulu>=20):\n",
    "    print('Espectaculo estelar!!')\n",
    "else:\n",
    "    print('Continuar con el monitore.')"
   ]
  }
 ],
 "metadata": {
  "interpreter": {
   "hash": "310de5395261291dc80715dddfe28575416fc65f73ccd1276a85b40bfc0e176d"
  },
  "kernelspec": {
   "display_name": "Python 3.9.8 64-bit",
   "language": "python",
   "name": "python3"
  },
  "language_info": {
   "codemirror_mode": {
    "name": "ipython",
    "version": 3
   },
   "file_extension": ".py",
   "mimetype": "text/x-python",
   "name": "python",
   "nbconvert_exporter": "python",
   "pygments_lexer": "ipython3",
   "version": "3.9.8"
  },
  "orig_nbformat": 4
 },
 "nbformat": 4,
 "nbformat_minor": 2
}
