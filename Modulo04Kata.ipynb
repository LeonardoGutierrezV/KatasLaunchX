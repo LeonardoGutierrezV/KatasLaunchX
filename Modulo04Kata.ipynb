{
 "cells": [
  {
   "cell_type": "markdown",
   "metadata": {},
   "source": [
    "# <font color='#557996'>Modulo 4</font>\n",
    "## <font size=6; color='#365b77'>Ejercicio 1: Transformar cadenas</font>\n",
    "\n",
    "<font color='#7498b6'>Hay varias operaciones que puedes realizar en las cadenas cuando las manipulamos. En este ejercicio, usarás métodos de cadena para modificar el texto con hechos sobre la Luna y luego extraerás información para crear un breve resumen.\n",
    "\n",
    "El texto con el que trabajarás es el siguiente:\n",
    "</font>"
   ]
  },
  {
   "cell_type": "code",
   "execution_count": 33,
   "metadata": {},
   "outputs": [
    {
     "name": "stdout",
     "output_type": "stream",
     "text": [
      "['Interesting', 'facts', 'about', 'the', 'Moon.', 'The', 'Moon', 'is', \"Earth's\", 'only', 'satellite.', 'There', 'are', 'several', 'interesting', 'facts', 'about', 'the', 'Moon', 'and', 'how', 'it', 'affects', 'life', 'here', 'on', 'Earth.', 'On', 'average,', 'the', 'Moon', 'moves', '4cm', 'away', 'from', 'the', 'Earth', 'every', 'year.', 'This', 'yearly', 'drift', 'is', 'not', 'significant', 'enough', 'to', 'cause', 'immediate', 'effects', 'on', 'Earth.', 'The', 'highest', 'daylight', 'temperature', 'of', 'the', 'Moon', 'is', '127', 'C.']\n"
     ]
    }
   ],
   "source": [
    "text = \"\"\"Interesting facts about the Moon. The Moon is Earth's only satellite. There are several interesting facts about the Moon and how it affects life here on Earth. \n",
    "On average, the Moon moves 4cm away from the Earth every year. This yearly drift is not significant enough to cause immediate effects on Earth. The highest daylight temperature of the Moon is 127 C.\"\"\"\n",
    "bitacora=text.split()\n",
    "print(bitacora)"
   ]
  },
  {
   "cell_type": "markdown",
   "metadata": {},
   "source": [
    "<font color='#7498b6'>Ahora, define algunas palabras clave para búsqueda que te ayudarán a determinar si una oración contiene un hecho</font>"
   ]
  },
  {
   "cell_type": "code",
   "execution_count": 34,
   "metadata": {},
   "outputs": [
    {
     "name": "stdout",
     "output_type": "stream",
     "text": [
      "['average', 'temperature', 'distance']\n"
     ]
    }
   ],
   "source": [
    "# Define las palabras pista: average, temperature y distance suenan bien\n",
    "words=[\"average\",\"temperature\",\"distance\"]\n",
    "print(words)"
   ]
  },
  {
   "cell_type": "markdown",
   "metadata": {},
   "source": [
    "<font color='#7498b6'>\n",
    "Cre un bucle para imprimir solo datos sobre la Luna que estén relacionados con las palabras clave definidas anteriormente\n",
    "</font>"
   ]
  },
  {
   "cell_type": "code",
   "execution_count": 49,
   "metadata": {},
   "outputs": [
    {
     "name": "stdout",
     "output_type": "stream",
     "text": [
      "average,\n",
      "temperature\n"
     ]
    }
   ],
   "source": [
    "for iteration in bitacora:\n",
    "    for iteword in words:        \n",
    "        if( iteword in iteration ): \n",
    "            print(iteration)    "
   ]
  },
  {
   "cell_type": "markdown",
   "metadata": {},
   "source": [
    "<font color='#7498b6'>\n",
    "Finalmente, actualiza el bucle(ciclo) para cambiar C a Celsius:\n",
    "</font>"
   ]
  },
  {
   "cell_type": "code",
   "execution_count": 53,
   "metadata": {},
   "outputs": [
    {
     "name": "stdout",
     "output_type": "stream",
     "text": [
      "0 Interesting\n",
      "1 facts\n",
      "2 about\n",
      "3 the\n",
      "4 Moon.\n",
      "5 The\n",
      "6 Moon\n",
      "7 is\n",
      "8 Earth's\n",
      "9 only\n",
      "10 satellite.\n",
      "11 There\n",
      "12 are\n",
      "13 several\n",
      "14 interesting\n",
      "15 facts\n",
      "16 about\n",
      "17 the\n",
      "18 Moon\n",
      "19 and\n",
      "20 how\n",
      "21 it\n",
      "22 affects\n",
      "23 life\n",
      "24 here\n",
      "25 on\n",
      "26 Earth.\n",
      "27 On\n",
      "28 average,\n",
      "29 the\n",
      "30 Moon\n",
      "31 moves\n",
      "32 4cm\n",
      "33 away\n",
      "34 from\n",
      "35 the\n",
      "36 Earth\n",
      "37 every\n",
      "38 year.\n",
      "39 This\n",
      "40 yearly\n",
      "41 drift\n",
      "42 is\n",
      "43 not\n",
      "44 significant\n",
      "45 enough\n",
      "46 to\n",
      "47 cause\n",
      "48 immediate\n",
      "49 effects\n",
      "50 on\n",
      "51 Earth.\n",
      "52 The\n",
      "53 highest\n",
      "54 daylight\n",
      "55 temperature\n",
      "56 of\n",
      "57 the\n",
      "58 Moon\n",
      "59 is\n",
      "60 127\n",
      "61 C.\n",
      "['Interesting', 'facts', 'about', 'the', 'Moon.', 'The', 'Moon', 'is', \"Earth's\", 'only', 'satellite.', 'There', 'are', 'several', 'interesting', 'facts', 'about', 'the', 'Moon', 'and', 'how', 'it', 'affects', 'life', 'here', 'on', 'Earth.', 'On', 'average,', 'the', 'Moon', 'moves', '4cm', 'away', 'from', 'the', 'Earth', 'every', 'year.', 'This', 'yearly', 'drift', 'is', 'not', 'significant', 'enough', 'to', 'cause', 'immediate', 'effects', 'on', 'Earth.', 'The', 'highest', 'daylight', 'temperature', 'of', 'the', 'Moon', 'is', '127', 'C.']\n"
     ]
    }
   ],
   "source": [
    "for idx, iteration in enumerate( bitacora):\n",
    "    print(idx, iteration )\n",
    "    if(iteration==\"C.\" ):\n",
    "        bitacora[idx].replace(\"C\",\"Celsius\")\n",
    "print(bitacora)"
   ]
  }
 ],
 "metadata": {
  "interpreter": {
   "hash": "310de5395261291dc80715dddfe28575416fc65f73ccd1276a85b40bfc0e176d"
  },
  "kernelspec": {
   "display_name": "Python 3.9.8 64-bit",
   "language": "python",
   "name": "python3"
  },
  "language_info": {
   "codemirror_mode": {
    "name": "ipython",
    "version": 3
   },
   "file_extension": ".py",
   "mimetype": "text/x-python",
   "name": "python",
   "nbconvert_exporter": "python",
   "pygments_lexer": "ipython3",
   "version": "3.9.8"
  },
  "orig_nbformat": 4
 },
 "nbformat": 4,
 "nbformat_minor": 2
}
