{
 "cells": [
  {
   "cell_type": "markdown",
   "metadata": {},
   "source": [
    "# <font color='#557996'>Modulo 5</font>\n",
    "## <font color='#365b77'>Ejercicio 1: Utilizar operadores aritméticos</font>\n",
    "\n",
    "<font color='#7498b6'>Python proporciona operadores aritméticos comunes para que puedas realizar operaciones matemáticas en tu código. Estos incluyen las cuatro operaciones principales de suma, resta, multiplicación y división.\n",
    "\n",
    "Exploremos cómo podemos crear un programa que pueda calcular la distancia entre dos planetas. Comenzaremos usando dos distancias de planetas: Tierra (149.597.870 km) y Júpiter (778.547.200 km).\n",
    "</font>"
   ]
  },
  {
   "cell_type": "code",
   "execution_count": 9,
   "metadata": {},
   "outputs": [
    {
     "name": "stdout",
     "output_type": "stream",
     "text": [
      "390577533.93\n"
     ]
    }
   ],
   "source": [
    "# Crear variables para almacenar las dos distancias\n",
    "# ¡Asegúrate de quitar las comas!\n",
    "Tierra = 149597870\n",
    "Jupiter = 778547200\n",
    "#Calcular distancia entre planetas\n",
    "DistanciaK = Jupiter-Tierra\n",
    "# Convertir Kilometros a millas\n",
    "DistanciaM = DistanciaK * 0.621\n",
    "print(DistanciaM)"
   ]
  },
  {
   "cell_type": "markdown",
   "metadata": {},
   "source": [
    "## <font color='#365b77'> Ejercicio 12: convierte cadenas en números y usa valores absolutos </font>\n",
    "\n",
    "### <font color='#365b77'> Crear una aplicación para trabajar con números y entrada de usuario </font>\n",
    "\n",
    "<font color='#7498b6'>\n",
    "\n",
    "Con frecuencia, deberás convertir los valores de cadena en números para realizar correctamente diferentes operaciones o determinar el valor absoluto de un número.\n",
    "\n",
    "Para crear nuestra aplicación, queremos leer la distancia del sol para dos planetas, y luego mostrar la distancia entre los planetas. Haremos esto usando **input** para leer los valores, **int** para convertir a entero y luego **abs** para convertir el resultado en su valor absoluto.\n",
    "</font>\n",
    "\n",
    "## <font color='#365b77'> Prueba tu aplicación </font>\n",
    "\n",
    "\n",
    "<font color='#7498b6'>\n",
    "\n",
    "Para probar el proyecto, ejecuta tu notebook. En la parte superior de vscode surgirá un cuadro de diálogo para que proporciones las distancias. Puede utilizar los datos de la tabla siguiente:\n",
    "\n",
    "\n",
    "|Planeta    |Distancia al sol|\n",
    "|-----------|----------------|\n",
    "|Mercurio   |57900000   |\n",
    "|Venus      |108200000  |\n",
    "|Tierra     |149600000  |\n",
    "|Marte      |227900000  |\n",
    "|Júpiter    |778600000  |\n",
    "|Saturno    |1433500000 |\n",
    "|Urano      |2872500000 |\n",
    "|Neptuno    |4495100000 |\n",
    "\n",
    "</font>"
   ]
  },
  {
   "cell_type": "code",
   "execution_count": 24,
   "metadata": {},
   "outputs": [
    {
     "name": "stdout",
     "output_type": "stream",
     "text": [
      "Distancia en kilometros:  2764300000\n",
      "Distancia en millas:  1716630300.0\n",
      "Distancia en mullas valor absoluto:  1716630300.0\n"
     ]
    }
   ],
   "source": [
    "import re\n",
    "# Almacenar las entradas del usuario\n",
    "P_Planeta = input('Introduzca la distancia del primer planeta (KM):')\n",
    "S_Planeta = input('Introduzca la distancia del segundo planeta (KM):')\n",
    "# Convierte las cadenas de ambos planetas a números enteros\n",
    "P_Planeta = int(P_Planeta)\n",
    "S_Planeta = int(S_Planeta)\n",
    "# Realizar el cálculo y determinar el valor absoluto\n",
    "DistanciaK = S_Planeta - P_Planeta\n",
    "print(\"Distancia en kilometros: \", DistanciaK )\n",
    "# Convertir de KM a Millas\n",
    "DistanciaM = DistanciaK * 0.621\n",
    "print(\"Distancia en millas: \", DistanciaM)\n",
    "print(\"Distancia en mullas valor absoluto: \", abs(DistanciaM) )"
   ]
  },
  {
   "cell_type": "markdown",
   "metadata": {},
   "source": []
  }
 ],
 "metadata": {
  "interpreter": {
   "hash": "310de5395261291dc80715dddfe28575416fc65f73ccd1276a85b40bfc0e176d"
  },
  "kernelspec": {
   "display_name": "Python 3.9.8 64-bit",
   "language": "python",
   "name": "python3"
  },
  "language_info": {
   "codemirror_mode": {
    "name": "ipython",
    "version": 3
   },
   "file_extension": ".py",
   "mimetype": "text/x-python",
   "name": "python",
   "nbconvert_exporter": "python",
   "pygments_lexer": "ipython3",
   "version": "3.9.8"
  },
  "orig_nbformat": 4
 },
 "nbformat": 4,
 "nbformat_minor": 2
}
