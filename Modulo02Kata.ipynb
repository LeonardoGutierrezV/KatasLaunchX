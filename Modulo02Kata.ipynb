{
 "cells": [
  {
   "cell_type": "markdown",
   "metadata": {},
   "source": [
    "# <font color='#557996'>Modulo 2</font>\n",
    "<span><font size=6; color='#365b77'>Crear un entorno virtual</font></span>\n",
    "</br>\n",
    "<span><font color='#7498b6'>Procedemos a crear y activar el entorno virtual con las siguientes líneas .</font></span>\n",
    "</br>"
   ]
  },
  {
   "cell_type": "code",
   "execution_count": 19,
   "metadata": {},
   "outputs": [
    {
     "name": "stdout",
     "output_type": "stream",
     "text": [
      " El volumen de la unidad A es User\n",
      " El n�mero de serie del volumen es: 604C-D075\n",
      "\n",
      " Directorio de a:\\Notebooks\\Katas\\M02Kata\\env\n",
      "\n",
      "12/02/2022  08:24 a. m.    <DIR>          .\n",
      "12/02/2022  08:24 a. m.    <DIR>          ..\n",
      "12/02/2022  08:24 a. m.    <DIR>          Include\n",
      "12/02/2022  08:24 a. m.    <DIR>          Lib\n",
      "12/02/2022  08:24 a. m.    <DIR>          Scripts\n",
      "12/02/2022  08:24 a. m.                79 pyvenv.cfg\n",
      "12/02/2022  08:24 a. m.    <DIR>          Src\n",
      "               1 archivos             79 bytes\n",
      "               6 dirs  215,337,664,512 bytes libres\n"
     ]
    }
   ],
   "source": [
    "#Accedemos a la ubicación donde necesitamos crear el entorno virtual\n",
    "!CD a:\\Notebooks\\Katas\n",
    "#Creamos el directorio necesario para el entorno virtual\n",
    "!MKDIR M02Kata\n",
    "#Creamos el entorno virtual en la ubicación creada\n",
    "!python -m venv a:\\Notebooks\\Katas\\M02Kata\\env\n",
    "#Creamos un directorio para el código fuente\n",
    "!MKDIR a:\\Notebooks\\Katas\\M02Kata\\env\\Src\n",
    "#Consultar archivos creados\n",
    "!DIR a:\\Notebooks\\Katas\\M02Kata\\env\n",
    "#Procedemos a activar el entorno virtual.\n",
    "!a:\\Notebooks\\Katas\\M02Kata\\env\\Scripts\\activate\n"
   ]
  },
  {
   "cell_type": "markdown",
   "metadata": {},
   "source": [
    "<span><font color='#7498b6'>Una véz activo el entorno procedemos a instalar las librerías freeze y python-dateutils.</font></span>\n",
    "</br>"
   ]
  },
  {
   "cell_type": "code",
   "execution_count": 22,
   "metadata": {},
   "outputs": [
    {
     "name": "stdout",
     "output_type": "stream",
     "text": [
      "argon2-cffi==21.3.0\n",
      "argon2-cffi-bindings==21.2.0\n",
      "asttokens==2.0.5\n",
      "attrs==21.4.0\n",
      "backcall==0.2.0\n",
      "black==22.1.0\n",
      "bleach==4.1.0\n",
      "cffi==1.15.0\n",
      "click==8.0.3\n",
      "colorama==0.4.4\n",
      "cycler==0.11.0\n",
      "debugpy==1.5.1\n",
      "decorator==5.1.1\n",
      "defusedxml==0.7.1\n",
      "entrypoints==0.4\n",
      "executing==0.8.2\n",
      "fonttools==4.29.1\n",
      "ipykernel==6.9.0\n",
      "ipython==8.0.1\n",
      "ipython-genutils==0.2.0\n",
      "ipywidgets==7.6.5\n",
      "jedi==0.18.1\n",
      "Jinja2==3.0.3\n",
      "jsonschema==4.4.0\n",
      "jupyter-client==7.1.2\n",
      "jupyter-core==4.9.1\n",
      "jupyterlab-pygments==0.1.2\n",
      "jupyterlab-widgets==1.0.2\n",
      "kiwisolver==1.3.2\n",
      "MarkupSafe==2.0.1\n",
      "matplotlib==3.5.1\n",
      "matplotlib-inline==0.1.3\n",
      "mistune==0.8.4\n",
      "mypy-extensions==0.4.3\n",
      "nbclient==0.5.10\n",
      "nbconvert==6.4.1\n",
      "nbformat==5.1.3\n",
      "nest-asyncio==1.5.4\n",
      "notebook==6.4.8\n",
      "numpy==1.22.2\n",
      "packaging==21.3\n",
      "pandocfilters==1.5.0\n",
      "parso==0.8.3\n",
      "pathspec==0.9.0\n",
      "pickleshare==0.7.5\n",
      "Pillow==9.0.1\n",
      "platformdirs==2.4.1\n",
      "prometheus-client==0.13.1\n",
      "prompt-toolkit==3.0.27\n",
      "pure-eval==0.2.2\n",
      "pycparser==2.21\n",
      "Pygments==2.11.2\n",
      "pyparsing==3.0.7\n",
      "pyrsistent==0.18.1\n",
      "python-dateutil==2.8.2\n",
      "pywin32==303\n",
      "pywinpty==2.0.2\n",
      "pyzmq==22.3.0\n",
      "Send2Trash==1.8.0\n",
      "six==1.16.0\n",
      "stack-data==0.1.4\n",
      "terminado==0.13.1\n",
      "testpath==0.5.0\n",
      "tomli==2.0.1\n",
      "tornado==6.1\n",
      "traitlets==5.1.1\n",
      "typing_extensions==4.0.1\n",
      "wcwidth==0.2.5\n",
      "webencodings==0.5.1\n",
      "widgetsnbextension==3.5.2\n",
      "Requirement already satisfied: python-dateutil in a:\\users\\leo\\appdata\\roaming\\python\\python39\\site-packages (2.8.2)\n",
      "Requirement already satisfied: six>=1.5 in a:\\users\\leo\\appdata\\roaming\\python\\python39\\site-packages (from python-dateutil) (1.16.0)\n"
     ]
    },
    {
     "name": "stderr",
     "output_type": "stream",
     "text": [
      "WARNING: You are using pip version 21.2.4; however, version 22.0.3 is available.\n",
      "You should consider upgrading via the 'C:\\Python\\3.9.8\\python.exe -m pip install --upgrade pip' command.\n"
     ]
    },
    {
     "name": "stdout",
     "output_type": "stream",
     "text": [
      "argon2-cffi==21.3.0\n",
      "argon2-cffi-bindings==21.2.0\n",
      "asttokens==2.0.5\n",
      "attrs==21.4.0\n",
      "backcall==0.2.0\n",
      "black==22.1.0\n",
      "bleach==4.1.0\n",
      "cffi==1.15.0\n",
      "click==8.0.3\n",
      "colorama==0.4.4\n",
      "cycler==0.11.0\n",
      "debugpy==1.5.1\n",
      "decorator==5.1.1\n",
      "defusedxml==0.7.1\n",
      "entrypoints==0.4\n",
      "executing==0.8.2\n",
      "fonttools==4.29.1\n",
      "ipykernel==6.9.0\n",
      "ipython==8.0.1\n",
      "ipython-genutils==0.2.0\n",
      "ipywidgets==7.6.5\n",
      "jedi==0.18.1\n",
      "Jinja2==3.0.3\n",
      "jsonschema==4.4.0\n",
      "jupyter-client==7.1.2\n",
      "jupyter-core==4.9.1\n",
      "jupyterlab-pygments==0.1.2\n",
      "jupyterlab-widgets==1.0.2\n",
      "kiwisolver==1.3.2\n",
      "MarkupSafe==2.0.1\n",
      "matplotlib==3.5.1\n",
      "matplotlib-inline==0.1.3\n",
      "mistune==0.8.4\n",
      "mypy-extensions==0.4.3\n",
      "nbclient==0.5.10\n",
      "nbconvert==6.4.1\n",
      "nbformat==5.1.3\n",
      "nest-asyncio==1.5.4\n",
      "notebook==6.4.8\n",
      "numpy==1.22.2\n",
      "packaging==21.3\n",
      "pandocfilters==1.5.0\n",
      "parso==0.8.3\n",
      "pathspec==0.9.0\n",
      "pickleshare==0.7.5\n",
      "Pillow==9.0.1\n",
      "platformdirs==2.4.1\n",
      "prometheus-client==0.13.1\n",
      "prompt-toolkit==3.0.27\n",
      "pure-eval==0.2.2\n",
      "pycparser==2.21\n",
      "Pygments==2.11.2\n",
      "pyparsing==3.0.7\n",
      "pyrsistent==0.18.1\n",
      "python-dateutil==2.8.2\n",
      "pywin32==303\n",
      "pywinpty==2.0.2\n",
      "pyzmq==22.3.0\n",
      "Send2Trash==1.8.0\n",
      "six==1.16.0\n",
      "stack-data==0.1.4\n",
      "terminado==0.13.1\n",
      "testpath==0.5.0\n",
      "tomli==2.0.1\n",
      "tornado==6.1\n",
      "traitlets==5.1.1\n",
      "typing_extensions==4.0.1\n",
      "wcwidth==0.2.5\n",
      "webencodings==0.5.1\n",
      "widgetsnbextension==3.5.2\n"
     ]
    }
   ],
   "source": [
    "# Instalar la librería freeze\n",
    "!pip freeze\n",
    "#Instalar la librería dateutil\n",
    "!pip install python-dateutil\n",
    "#Para validar información de la librería freeze se ejecuta nuevamente el comando\n",
    "!pip freeze"
   ]
  },
  {
   "cell_type": "markdown",
   "metadata": {},
   "source": [
    "<span><font color='#7498b6'>Una véz terminada la actividad desactivamos el entorno virtual</font></span>\n",
    "</br>"
   ]
  },
  {
   "cell_type": "code",
   "execution_count": 23,
   "metadata": {},
   "outputs": [],
   "source": [
    "#Para desactivar el entorno virtual ejecutamos el comando\n",
    "!a:\\Notebooks\\Katas\\M02Kata\\env\\Scripts\\deactivate"
   ]
  }
 ],
 "metadata": {
  "interpreter": {
   "hash": "310de5395261291dc80715dddfe28575416fc65f73ccd1276a85b40bfc0e176d"
  },
  "kernelspec": {
   "display_name": "Python 3.9.8 64-bit",
   "language": "python",
   "name": "python3"
  },
  "language_info": {
   "codemirror_mode": {
    "name": "ipython",
    "version": 3
   },
   "file_extension": ".py",
   "mimetype": "text/x-python",
   "name": "python",
   "nbconvert_exporter": "python",
   "pygments_lexer": "ipython3",
   "version": "3.9.8"
  },
  "orig_nbformat": 4
 },
 "nbformat": 4,
 "nbformat_minor": 2
}
